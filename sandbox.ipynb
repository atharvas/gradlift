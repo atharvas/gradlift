{
 "cells": [
  {
   "cell_type": "code",
   "execution_count": 1,
   "metadata": {},
   "outputs": [],
   "source": [
    "import json, os, torch\n",
    "import numpy as np\n",
    "import matplotlib.pyplot as plt\n",
    "def read_json(pth):\n",
    "    assert os.path.exists(pth)\n",
    "    with open(pth) as fp:\n",
    "        return json.load(fp)\n",
    "\n",
    "def to_json(obj, pth):\n",
    "    with open(pth, \"w\") as fp:\n",
    "        json.dump(obj, fp)\n"
   ]
  },
  {
   "cell_type": "code",
   "execution_count": 9,
   "metadata": {},
   "outputs": [
    {
     "name": "stdout",
     "output_type": "stream",
     "text": [
      "dict_keys(['image_id', 'category_id', 'keypoints', 'score', 'box', 'idx'])\n",
      "0.jpg 1 (51,) 3.1060922145843506 [533.31903076 268.63006592 243.50982666 263.4899292 ] [0.0]\n"
     ]
    }
   ],
   "source": [
    "preds = read_json(\"output/1RchFn-zZDw-results.json\")\n",
    "\n",
    "print(preds[0].keys())\n",
    "for pred in preds:\n",
    "    print(\n",
    "        pred['image_id'],\n",
    "        pred['category_id'],\n",
    "        np.array(pred['keypoints']).shape,\n",
    "        pred['score'],\n",
    "        np.array(pred['box']),\n",
    "        pred['idx'],\n",
    "    )\n",
    "    break\n",
    "\n",
    "\n",
    "\n"
   ]
  },
  {
   "cell_type": "code",
   "execution_count": 15,
   "metadata": {},
   "outputs": [
    {
     "data": {
      "image/png": "[encoded data removed]",
      "text/plain": [
       "<Figure size 914.4x518.4 with 1 Axes>"
      ]
     },
     "metadata": {
      "needs_background": "light"
     },
     "output_type": "display_data"
    }
   ],
   "source": [
    "gt_labels = {\n",
    "        \"Nose\"          : torch.LongTensor([0]),\n",
    "        \"LEye\"          : torch.LongTensor([1]),\n",
    "        \"REye\"          : torch.LongTensor([2]),\n",
    "        \"LEar\"          : torch.LongTensor([3]),\n",
    "        \"REar\"          : torch.LongTensor([4]),\n",
    "        \"LShoulder\"     : torch.LongTensor([5]),\n",
    "        \"RShoulder\"     : torch.LongTensor([6]),\n",
    "        \"LElbow\"        : torch.LongTensor([7]),\n",
    "        \"RElbow\"        : torch.LongTensor([8]),\n",
    "        \"LWrist\"        : torch.LongTensor([9]),\n",
    "        \"RWrist\"        : torch.LongTensor([10]),\n",
    "        \"LHip\"          : torch.LongTensor([11]),\n",
    "        \"RHip\"          : torch.LongTensor([12]),\n",
    "        \"LKnee\"         : torch.LongTensor([13]),\n",
    "        \"RKnee\"         : torch.LongTensor([14]),\n",
    "        \"LAnkle\"        : torch.LongTensor([15]),\n",
    "        \"RAnkle\"        : torch.LongTensor([16]),\n",
    "\n",
    "}\n",
    "\n",
    "joints = {\n",
    "        \"LArm_joint\" : [\"LWrist\", \"LElbow\", \"LShoulder\"],\n",
    "        \"RArm_joint\" : [\"RWrist\", \"RElbow\", \"RShoulder\"],\n",
    "        \"LLeg_joint\" : [\"LAnkle\", \"LKnee\", \"LHip\"],\n",
    "        \"RLeg_joint\" : [\"RAnkle\", \"RKnee\", \"RHip\"],\n",
    "}\n",
    "\n",
    "\n",
    "class Skeleton:\n",
    "        def get_angle(self, ptA, ptB, ptC):\n",
    "                dist = lambda x, y: torch.dist(x, y, p=2)\n",
    "                lnAB = dist(ptA, ptB)\n",
    "                lnBC = dist(ptB, ptC)\n",
    "                lnAC = dist(ptA, ptC)\n",
    "                theta = torch.acos(((lnAB**2) + (lnBC**2) - (lnAC**2)) / (2 * lnAB * lnBC))\n",
    "                return np.degrees(theta)\n",
    "\n",
    "        def add_centroids(self, d):\n",
    "                for key in ['Hip', 'Ankle', 'Knee', 'Shoulder', 'Wrist']:\n",
    "                        d[f\"C{key}\"] = (d[f\"L{key}\"] + d[f\"R{key}\"]) / 2\n",
    "                return d\n",
    "                \n",
    "        def add_angles(self, d):\n",
    "                # Use law of cosines.\n",
    "                for j, (ka, kb, kc) in joints.items():\n",
    "                        d[j] = self.get_angle(d[ka], d[kb], d[kc])\n",
    "                return d\n",
    "        \n",
    "        def plot(self):\n",
    "                fig = plt.figure(figsize=(12.70, 7.20))\n",
    "                ax = fig.add_subplot(111)\n",
    "                ax.set_xlim([0, 7.20])\n",
    "                ax.set_ylim([0, 12.70])\n",
    "                for k, v in self.feat_dict.items():\n",
    "                        ax.scatter(v[0] / 100, v[1] / 100, label=k)\n",
    "                ax.legend()\n",
    "\n",
    "        def __init__(self, arr):\n",
    "                raw_input = torch.Tensor(arr).view(-1, 3)\n",
    "                self.feat_dict = {k : raw_input[v.item()] for (k, v) in gt_labels.items()}\n",
    "                # self.feat_dict = self.add_centroids(self.feat_dict)\n",
    "                # self.feat_dict = self.add_angles(self.feat_dict)\n",
    "                # print(self.feat_dict)\n",
    "                \n",
    "                \n",
    "\n",
    "s = Skeleton(pred['keypoints'])\n",
    "\n",
    "s.plot()"
   ]
  },
  {
   "cell_type": "code",
   "execution_count": 12,
   "metadata": {},
   "outputs": [
    {
     "data": {
      "text/plain": [
       "tensor(8.4867)"
      ]
     },
     "execution_count": 12,
     "metadata": {},
     "output_type": "execute_result"
    }
   ],
   "source": [
    "x = torch.Tensor(pred['keypoints']).view(-1, 3)\n",
    "\n",
    "x, y, z = x[:3]\n",
    "\n",
    "torch.dist(x, y)"
   ]
  }
 ],
 "metadata": {
  "interpreter": {
   "hash": "a9dbdae263a1580beefcc3328e6bd0251227f458a729396408171c3f45c9af88"
  },
  "kernelspec": {
   "display_name": "Python 3.8.10 64-bit ('NEAR': conda)",
   "language": "python",
   "name": "python3"
  },
  "language_info": {
   "codemirror_mode": {
    "name": "ipython",
    "version": 3
   },
   "file_extension": ".py",
   "mimetype": "text/x-python",
   "name": "python",
   "nbconvert_exporter": "python",
   "pygments_lexer": "ipython3",
   "version": "3.8.10"
  },
  "orig_nbformat": 4
 },
 "nbformat": 4,
 "nbformat_minor": 2
}

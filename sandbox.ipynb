{
 "cells": [
  {
   "cell_type": "code",
   "execution_count": 2,
   "metadata": {},
   "outputs": [],
   "source": [
    "import json, os\n",
    "import numpy as np\n",
    "import matplotlib.pyplot as plt\n",
    "def read_json(pth):\n",
    "    assert os.path.exists(pth)\n",
    "    with open(pth) as fp:\n",
    "        return json.load(fp)\n",
    "\n",
    "def to_json(obj, pth):\n",
    "    with open(pth, \"w\") as fp:\n",
    "        json.dump(obj, fp)\n"
   ]
  },
  {
   "cell_type": "code",
   "execution_count": 3,
   "metadata": {},
   "outputs": [
    {
     "name": "stdout",
     "output_type": "stream",
     "text": [
      "dict_keys(['image_id', 'category_id', 'keypoints', 'score', 'box', 'idx'])\n",
      "0.jpg 1 (51,) 3.1060922145843506 [533.31903076 268.63006592 243.50982666 263.4899292 ] [0.0]\n"
     ]
    }
   ],
   "source": [
    "preds = read_json(\"data/output/1RchFn-zZDw-results.json\")\n",
    "\n",
    "print(preds[0].keys())\n",
    "for pred in preds:\n",
    "    print(\n",
    "        pred['image_id'],\n",
    "        pred['category_id'],\n",
    "        np.array(pred['keypoints']).shape,\n",
    "        pred['score'],\n",
    "        np.array(pred['box']),\n",
    "        pred['idx'],\n",
    "    )\n",
    "    break\n",
    "\n",
    "\n",
    "\n"
   ]
  },
  {
   "cell_type": "code",
   "execution_count": 74,
   "metadata": {},
   "outputs": [
    {
     "data": {
      "image/png": "[encoded data removed]",
      "text/plain": [
       "<Figure size 914.4x518.4 with 1 Axes>"
      ]
     },
     "metadata": {
      "needs_background": "light"
     },
     "output_type": "display_data"
    }
   ],
   "source": [
    "gt_labels = {\n",
    "        \"Nose\"          : np.array([0], dtype=int),\n",
    "        \"LEye\"          : np.array([1], dtype=int),\n",
    "        \"REye\"          : np.array([2], dtype=int),\n",
    "        \"LEar\"          : np.array([3], dtype=int),\n",
    "        \"REar\"          : np.array([4], dtype=int),\n",
    "        \"LShoulder\"     : np.array([5], dtype=int),\n",
    "        \"RShoulder\"     : np.array([6], dtype=int),\n",
    "        \"LElbow\"        : np.array([7], dtype=int),\n",
    "        \"RElbow\"        : np.array([8], dtype=int),\n",
    "        \"LWrist\"        : np.array([9], dtype=int),\n",
    "        \"RWrist\"        : np.array([10], dtype=int),\n",
    "        \"LHip\"          : np.array([11], dtype=int),\n",
    "        \"RHip\"          : np.array([12], dtype=int),\n",
    "        \"LKnee\"         : np.array([13], dtype=int),\n",
    "        \"RKnee\"         : np.array([14], dtype=int),\n",
    "        \"LAnkle\"        : np.array([15], dtype=int),\n",
    "        \"RAnkle\"        : np.array([16], dtype=int),\n",
    "\n",
    "}\n",
    "\n",
    "joints = {\n",
    "        \"LArm_joint\" : [\"LWrist\", \"LElbow\", \"LShoulder\"],\n",
    "        \"RArm_joint\" : [\"RWrist\", \"RElbow\", \"RShoulder\"],\n",
    "        \"LLeg_joint\" : [\"LAnkle\", \"LKnee\", \"LHip\"],\n",
    "        \"RLeg_joint\" : [\"RAnkle\", \"RKnee\", \"RHip\"],\n",
    "}\n",
    "\n",
    "joint_length = {\n",
    "        (\"Knee\", \"Ankle\") :  (1938.3904646082083 + 1924.7187497200205) / 2,\n",
    "        (\"Hip\", \"Knee\") : 1875.865770668652\n",
    "}\n",
    "\n",
    "class Skeleton:\n",
    "        def get_angle(self, ptA, ptB, ptC):\n",
    "                dist = lambda x, y: torch.dist(x, y, p=2)\n",
    "                lnAB = dist(ptA, ptB)\n",
    "                lnBC = dist(ptB, ptC)\n",
    "                lnAC = dist(ptA, ptC)\n",
    "                theta = np.arccos(((lnAB**2) + (lnBC**2) - (lnAC**2)) / (2 * lnAB * lnBC))\n",
    "                return np.degrees(theta)\n",
    "\n",
    "        def add_centroids(self, d):\n",
    "                for key in ['Hip', 'Ankle', 'Knee', 'Shoulder', 'Wrist']:\n",
    "                        d[f\"C{key}\"] = (d[f\"L{key}\"] + d[f\"R{key}\"]) / 2\n",
    "                return d\n",
    "                \n",
    "        def add_angles(self, d):\n",
    "                # Use law of cosines.\n",
    "                for j, (ka, kb, kc) in joints.items():\n",
    "                        d[j] = self.get_angle(d[ka], d[kb], d[kc])\n",
    "                return d\n",
    "        \n",
    "        def calc_perspective(self, x1, y1, x2, y2, xx, yy):\n",
    "                a = np.sqrt((x1 + x2)**2 + (y1 + y2)**2)\n",
    "                b = joint_length[(xx, yy)]\n",
    "                \n",
    "                return np.degrees(np.arccos(a / b))\n",
    "                \n",
    "                # return 0\n",
    "        def plot(self):\n",
    "                fig = plt.figure(figsize=(12.70, 7.20))\n",
    "                ax = fig.add_subplot(111)\n",
    "                ax.set_ylim([0, 7.20])\n",
    "                ax.set_xlim([0, 12.70])\n",
    "\n",
    "                # for k, v in self.feat_dict.items():\n",
    "                for dir in ['L', 'R']:\n",
    "                        for (xx, yy) in [('Knee', 'Ankle'), ('Hip', 'Knee')]: # ('Elbow', 'Wrist'), ('Shoulder', 'Elbow')\n",
    "                                x1, y1, _ = (self.feat_dict[dir+xx]) / 100\n",
    "                                x2, y2, _ = (self.feat_dict[dir+yy]) / 100\n",
    "                                y1 = abs(7.20 - y1)\n",
    "                                y2 = abs(7.20 - y2)\n",
    "                                perspective = self.calc_perspective(x1, y1, x2, y2, xx, yy)\n",
    "                                ax.plot([x1, x2], [y1, y2], linewidth=1.2, label=dir+xx+yy+str(perspective.round(2)))\n",
    "                        # if all(kk not in k for kk in ['Hip', 'Knee', 'Ankle']): continue\n",
    "                        # ax.scatter(v[0] / 100, v[1] / 100, label=k)\n",
    "                ax.legend()\n",
    "\n",
    "        def __init__(self, arr):\n",
    "                raw_input = np.array(arr).reshape(-1, 3)\n",
    "                self.feat_dict = {k : raw_input[v.item()] for (k, v) in gt_labels.items()}\n",
    "                self.feat_dict = self.add_centroids(self.feat_dict)\n",
    "                # self.feat_dict = self.add_angles(self.feat_dict)\n",
    "                # print(self.feat_dict)\n",
    "                \n",
    "\n",
    "s = Skeleton(preds[42]['keypoints'])\n",
    "s.plot()"
   ]
  },
  {
   "cell_type": "code",
   "execution_count": 33,
   "metadata": {},
   "outputs": [
    {
     "data": {
      "text/plain": [
       "[<matplotlib.lines.Line2D at 0x7f8066e27b20>]"
      ]
     },
     "execution_count": 33,
     "metadata": {},
     "output_type": "execute_result"
    },
    {
     "data": {
      "image/png": "[encoded data removed]",
      "text/plain": [
       "<Figure size 432x288 with 1 Axes>"
      ]
     },
     "metadata": {
      "needs_background": "light"
     },
     "output_type": "display_data"
    }
   ],
   "source": [
    "# ((x1, y1), (x2, y2)) =  ((6.598300170898438, 3.797655029296875), (6.598300170898438, 4.717158203125))\n",
    "\n",
    "# plt.plot([x1, y1], [x2, y2], linewidth=1.2)\n"
   ]
  }
 ],
 "metadata": {
  "interpreter": {
   "hash": "a9dbdae263a1580beefcc3328e6bd0251227f458a729396408171c3f45c9af88"
  },
  "kernelspec": {
   "display_name": "Python 3.8.10 64-bit ('NEAR': conda)",
   "language": "python",
   "name": "python3"
  },
  "language_info": {
   "codemirror_mode": {
    "name": "ipython",
    "version": 3
   },
   "file_extension": ".py",
   "mimetype": "text/x-python",
   "name": "python",
   "nbconvert_exporter": "python",
   "pygments_lexer": "ipython3",
   "version": "3.9.5"
  },
  "orig_nbformat": 4
 },
 "nbformat": 4,
 "nbformat_minor": 2
}
